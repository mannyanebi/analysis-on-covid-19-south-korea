{
 "cells": [
  {
   "cell_type": "markdown",
   "metadata": {},
   "source": [
    "# Analysis on the COVID-19 Pandemic Effects on South Korea"
   ]
  },
  {
   "cell_type": "markdown",
   "metadata": {},
   "source": [
    "_The dataset used for this analysis is from kaggle, provided by DS4C: Data Science for COVID-19 in South Korea_\n",
    "\n",
    "Using the TimeAge.csv dataset file having 450 rows and 4 columns.\n",
    "\n",
    "In this analysis we will be seeking for answers to the questions:\n",
    "\n",
    "The rate of increase of confirmed cases every 7 days?\n",
    "\n",
    "The rate of fatalities from covid-19 by the day?\n",
    "\n",
    "The most affected age group who are deceased?"
   ]
  },
  {
   "cell_type": "code",
   "execution_count": 1,
   "metadata": {},
   "outputs": [],
   "source": [
    "import pandas as pd\n",
    "import matplotlib.pyplot as plt\n",
    "import numpy as np\n",
    "import seaborn as sns"
   ]
  },
  {
   "cell_type": "code",
   "execution_count": 2,
   "metadata": {},
   "outputs": [],
   "source": [
    "data = pd.read_csv('TimeAge.csv', index_col='date', parse_dates=True)"
   ]
  },
  {
   "cell_type": "code",
   "execution_count": 26,
   "metadata": {},
   "outputs": [
    {
     "data": {
      "text/plain": [
       "(450, 4)"
      ]
     },
     "execution_count": 26,
     "metadata": {},
     "output_type": "execute_result"
    }
   ],
   "source": [
    "data.shape"
   ]
  },
  {
   "cell_type": "code",
   "execution_count": 3,
   "metadata": {},
   "outputs": [
    {
     "data": {
      "text/html": [
       "<div>\n",
       "<style scoped>\n",
       "    .dataframe tbody tr th:only-of-type {\n",
       "        vertical-align: middle;\n",
       "    }\n",
       "\n",
       "    .dataframe tbody tr th {\n",
       "        vertical-align: top;\n",
       "    }\n",
       "\n",
       "    .dataframe thead th {\n",
       "        text-align: right;\n",
       "    }\n",
       "</style>\n",
       "<table border=\"1\" class=\"dataframe\">\n",
       "  <thead>\n",
       "    <tr style=\"text-align: right;\">\n",
       "      <th></th>\n",
       "      <th>time</th>\n",
       "      <th>age</th>\n",
       "      <th>confirmed</th>\n",
       "      <th>deceased</th>\n",
       "    </tr>\n",
       "    <tr>\n",
       "      <th>date</th>\n",
       "      <th></th>\n",
       "      <th></th>\n",
       "      <th></th>\n",
       "      <th></th>\n",
       "    </tr>\n",
       "  </thead>\n",
       "  <tbody>\n",
       "    <tr>\n",
       "      <th>2020-03-02</th>\n",
       "      <td>0</td>\n",
       "      <td>0s</td>\n",
       "      <td>32</td>\n",
       "      <td>0</td>\n",
       "    </tr>\n",
       "    <tr>\n",
       "      <th>2020-03-02</th>\n",
       "      <td>0</td>\n",
       "      <td>10s</td>\n",
       "      <td>169</td>\n",
       "      <td>0</td>\n",
       "    </tr>\n",
       "    <tr>\n",
       "      <th>2020-03-02</th>\n",
       "      <td>0</td>\n",
       "      <td>20s</td>\n",
       "      <td>1235</td>\n",
       "      <td>0</td>\n",
       "    </tr>\n",
       "    <tr>\n",
       "      <th>2020-03-02</th>\n",
       "      <td>0</td>\n",
       "      <td>30s</td>\n",
       "      <td>506</td>\n",
       "      <td>1</td>\n",
       "    </tr>\n",
       "    <tr>\n",
       "      <th>2020-03-02</th>\n",
       "      <td>0</td>\n",
       "      <td>40s</td>\n",
       "      <td>633</td>\n",
       "      <td>1</td>\n",
       "    </tr>\n",
       "    <tr>\n",
       "      <th>2020-03-02</th>\n",
       "      <td>0</td>\n",
       "      <td>50s</td>\n",
       "      <td>834</td>\n",
       "      <td>5</td>\n",
       "    </tr>\n",
       "    <tr>\n",
       "      <th>2020-03-02</th>\n",
       "      <td>0</td>\n",
       "      <td>60s</td>\n",
       "      <td>530</td>\n",
       "      <td>6</td>\n",
       "    </tr>\n",
       "    <tr>\n",
       "      <th>2020-03-02</th>\n",
       "      <td>0</td>\n",
       "      <td>70s</td>\n",
       "      <td>192</td>\n",
       "      <td>6</td>\n",
       "    </tr>\n",
       "    <tr>\n",
       "      <th>2020-03-02</th>\n",
       "      <td>0</td>\n",
       "      <td>80s</td>\n",
       "      <td>81</td>\n",
       "      <td>3</td>\n",
       "    </tr>\n",
       "    <tr>\n",
       "      <th>2020-03-03</th>\n",
       "      <td>0</td>\n",
       "      <td>0s</td>\n",
       "      <td>34</td>\n",
       "      <td>0</td>\n",
       "    </tr>\n",
       "  </tbody>\n",
       "</table>\n",
       "</div>"
      ],
      "text/plain": [
       "            time  age  confirmed  deceased\n",
       "date                                      \n",
       "2020-03-02     0   0s         32         0\n",
       "2020-03-02     0  10s        169         0\n",
       "2020-03-02     0  20s       1235         0\n",
       "2020-03-02     0  30s        506         1\n",
       "2020-03-02     0  40s        633         1\n",
       "2020-03-02     0  50s        834         5\n",
       "2020-03-02     0  60s        530         6\n",
       "2020-03-02     0  70s        192         6\n",
       "2020-03-02     0  80s         81         3\n",
       "2020-03-03     0   0s         34         0"
      ]
     },
     "execution_count": 3,
     "metadata": {},
     "output_type": "execute_result"
    }
   ],
   "source": [
    "data.head(10)"
   ]
  },
  {
   "cell_type": "code",
   "execution_count": 4,
   "metadata": {},
   "outputs": [],
   "source": [
    "data_resampled = data.resample('7D')['confirmed', 'deceased'].mean()"
   ]
  },
  {
   "cell_type": "markdown",
   "metadata": {},
   "source": [
    "Investigating the rate of increase of confirmed cases every 7 days?"
   ]
  },
  {
   "cell_type": "code",
   "execution_count": 5,
   "metadata": {},
   "outputs": [
    {
     "data": {
      "text/plain": [
       "DatetimeIndex(['2020-03-02', '2020-03-09', '2020-03-16', '2020-03-23',\n",
       "               '2020-03-30', '2020-04-06', '2020-04-13', '2020-04-20'],\n",
       "              dtype='datetime64[ns]', name='date', freq='7D')"
      ]
     },
     "execution_count": 5,
     "metadata": {},
     "output_type": "execute_result"
    }
   ],
   "source": [
    "data_resampled.index"
   ]
  },
  {
   "cell_type": "code",
   "execution_count": 11,
   "metadata": {},
   "outputs": [
    {
     "data": {
      "image/png": "[encoded data removed]",
      "text/plain": [
       "<Figure size 432x288 with 1 Axes>"
      ]
     },
     "metadata": {
      "needs_background": "light"
     },
     "output_type": "display_data"
    }
   ],
   "source": [
    "fig, ax = plt.subplots()\n",
    "ax.plot(data_resampled.index, data_resampled['confirmed'], marker='o')\n",
    "ax.set_xlabel('Date')\n",
    "ax.set_xticklabels(data_resampled.index, rotation=90)\n",
    "ax.set_ylabel('Confirmed Cases')\n",
    "plt.show()"
   ]
  },
  {
   "cell_type": "markdown",
   "metadata": {},
   "source": [
    "_The plot shows that new cases were confirmed every new week, with numbers higher than the previous week, therefore it could mean that the spread of the virus was already full blown among the south korean populace before it was detected_"
   ]
  },
  {
   "cell_type": "markdown",
   "metadata": {},
   "source": [
    "Investigating the rate of fatalities by the day between March and April"
   ]
  },
  {
   "cell_type": "code",
   "execution_count": 7,
   "metadata": {},
   "outputs": [],
   "source": [
    "data_deceased_grouped = data.groupby(data.index)['deceased', 'confirmed'].sum()"
   ]
  },
  {
   "cell_type": "code",
   "execution_count": 8,
   "metadata": {},
   "outputs": [
    {
     "data": {
      "text/html": [
       "<div>\n",
       "<style scoped>\n",
       "    .dataframe tbody tr th:only-of-type {\n",
       "        vertical-align: middle;\n",
       "    }\n",
       "\n",
       "    .dataframe tbody tr th {\n",
       "        vertical-align: top;\n",
       "    }\n",
       "\n",
       "    .dataframe thead th {\n",
       "        text-align: right;\n",
       "    }\n",
       "</style>\n",
       "<table border=\"1\" class=\"dataframe\">\n",
       "  <thead>\n",
       "    <tr style=\"text-align: right;\">\n",
       "      <th></th>\n",
       "      <th>deceased</th>\n",
       "      <th>confirmed</th>\n",
       "    </tr>\n",
       "    <tr>\n",
       "      <th>date</th>\n",
       "      <th></th>\n",
       "      <th></th>\n",
       "    </tr>\n",
       "  </thead>\n",
       "  <tbody>\n",
       "    <tr>\n",
       "      <th>2020-03-02</th>\n",
       "      <td>22</td>\n",
       "      <td>4212</td>\n",
       "    </tr>\n",
       "    <tr>\n",
       "      <th>2020-03-03</th>\n",
       "      <td>28</td>\n",
       "      <td>4812</td>\n",
       "    </tr>\n",
       "    <tr>\n",
       "      <th>2020-03-04</th>\n",
       "      <td>32</td>\n",
       "      <td>5328</td>\n",
       "    </tr>\n",
       "    <tr>\n",
       "      <th>2020-03-05</th>\n",
       "      <td>35</td>\n",
       "      <td>5766</td>\n",
       "    </tr>\n",
       "    <tr>\n",
       "      <th>2020-03-06</th>\n",
       "      <td>42</td>\n",
       "      <td>6284</td>\n",
       "    </tr>\n",
       "    <tr>\n",
       "      <th>2020-03-07</th>\n",
       "      <td>44</td>\n",
       "      <td>6777</td>\n",
       "    </tr>\n",
       "    <tr>\n",
       "      <th>2020-03-08</th>\n",
       "      <td>50</td>\n",
       "      <td>7134</td>\n",
       "    </tr>\n",
       "    <tr>\n",
       "      <th>2020-03-09</th>\n",
       "      <td>51</td>\n",
       "      <td>7382</td>\n",
       "    </tr>\n",
       "    <tr>\n",
       "      <th>2020-03-10</th>\n",
       "      <td>54</td>\n",
       "      <td>7513</td>\n",
       "    </tr>\n",
       "    <tr>\n",
       "      <th>2020-03-11</th>\n",
       "      <td>60</td>\n",
       "      <td>7755</td>\n",
       "    </tr>\n",
       "    <tr>\n",
       "      <th>2020-03-12</th>\n",
       "      <td>66</td>\n",
       "      <td>7869</td>\n",
       "    </tr>\n",
       "    <tr>\n",
       "      <th>2020-03-13</th>\n",
       "      <td>67</td>\n",
       "      <td>7979</td>\n",
       "    </tr>\n",
       "    <tr>\n",
       "      <th>2020-03-14</th>\n",
       "      <td>72</td>\n",
       "      <td>8086</td>\n",
       "    </tr>\n",
       "    <tr>\n",
       "      <th>2020-03-15</th>\n",
       "      <td>75</td>\n",
       "      <td>8162</td>\n",
       "    </tr>\n",
       "    <tr>\n",
       "      <th>2020-03-16</th>\n",
       "      <td>75</td>\n",
       "      <td>8236</td>\n",
       "    </tr>\n",
       "    <tr>\n",
       "      <th>2020-03-17</th>\n",
       "      <td>81</td>\n",
       "      <td>8320</td>\n",
       "    </tr>\n",
       "    <tr>\n",
       "      <th>2020-03-18</th>\n",
       "      <td>84</td>\n",
       "      <td>8413</td>\n",
       "    </tr>\n",
       "    <tr>\n",
       "      <th>2020-03-19</th>\n",
       "      <td>91</td>\n",
       "      <td>8565</td>\n",
       "    </tr>\n",
       "    <tr>\n",
       "      <th>2020-03-20</th>\n",
       "      <td>94</td>\n",
       "      <td>8652</td>\n",
       "    </tr>\n",
       "    <tr>\n",
       "      <th>2020-03-21</th>\n",
       "      <td>102</td>\n",
       "      <td>8799</td>\n",
       "    </tr>\n",
       "    <tr>\n",
       "      <th>2020-03-22</th>\n",
       "      <td>104</td>\n",
       "      <td>8897</td>\n",
       "    </tr>\n",
       "    <tr>\n",
       "      <th>2020-03-23</th>\n",
       "      <td>111</td>\n",
       "      <td>8961</td>\n",
       "    </tr>\n",
       "    <tr>\n",
       "      <th>2020-03-24</th>\n",
       "      <td>120</td>\n",
       "      <td>9037</td>\n",
       "    </tr>\n",
       "    <tr>\n",
       "      <th>2020-03-25</th>\n",
       "      <td>126</td>\n",
       "      <td>9137</td>\n",
       "    </tr>\n",
       "    <tr>\n",
       "      <th>2020-03-26</th>\n",
       "      <td>131</td>\n",
       "      <td>9241</td>\n",
       "    </tr>\n",
       "    <tr>\n",
       "      <th>2020-03-27</th>\n",
       "      <td>139</td>\n",
       "      <td>9332</td>\n",
       "    </tr>\n",
       "    <tr>\n",
       "      <th>2020-03-28</th>\n",
       "      <td>144</td>\n",
       "      <td>9478</td>\n",
       "    </tr>\n",
       "    <tr>\n",
       "      <th>2020-03-29</th>\n",
       "      <td>152</td>\n",
       "      <td>9583</td>\n",
       "    </tr>\n",
       "    <tr>\n",
       "      <th>2020-03-30</th>\n",
       "      <td>158</td>\n",
       "      <td>9661</td>\n",
       "    </tr>\n",
       "    <tr>\n",
       "      <th>2020-03-31</th>\n",
       "      <td>162</td>\n",
       "      <td>9786</td>\n",
       "    </tr>\n",
       "    <tr>\n",
       "      <th>2020-04-01</th>\n",
       "      <td>165</td>\n",
       "      <td>9887</td>\n",
       "    </tr>\n",
       "    <tr>\n",
       "      <th>2020-04-02</th>\n",
       "      <td>169</td>\n",
       "      <td>9976</td>\n",
       "    </tr>\n",
       "    <tr>\n",
       "      <th>2020-04-03</th>\n",
       "      <td>174</td>\n",
       "      <td>10062</td>\n",
       "    </tr>\n",
       "    <tr>\n",
       "      <th>2020-04-04</th>\n",
       "      <td>177</td>\n",
       "      <td>10156</td>\n",
       "    </tr>\n",
       "    <tr>\n",
       "      <th>2020-04-05</th>\n",
       "      <td>183</td>\n",
       "      <td>10237</td>\n",
       "    </tr>\n",
       "    <tr>\n",
       "      <th>2020-04-06</th>\n",
       "      <td>186</td>\n",
       "      <td>10284</td>\n",
       "    </tr>\n",
       "    <tr>\n",
       "      <th>2020-04-07</th>\n",
       "      <td>192</td>\n",
       "      <td>10331</td>\n",
       "    </tr>\n",
       "    <tr>\n",
       "      <th>2020-04-08</th>\n",
       "      <td>200</td>\n",
       "      <td>10384</td>\n",
       "    </tr>\n",
       "    <tr>\n",
       "      <th>2020-04-09</th>\n",
       "      <td>204</td>\n",
       "      <td>10423</td>\n",
       "    </tr>\n",
       "    <tr>\n",
       "      <th>2020-04-10</th>\n",
       "      <td>208</td>\n",
       "      <td>10450</td>\n",
       "    </tr>\n",
       "    <tr>\n",
       "      <th>2020-04-11</th>\n",
       "      <td>211</td>\n",
       "      <td>10480</td>\n",
       "    </tr>\n",
       "    <tr>\n",
       "      <th>2020-04-12</th>\n",
       "      <td>214</td>\n",
       "      <td>10512</td>\n",
       "    </tr>\n",
       "    <tr>\n",
       "      <th>2020-04-13</th>\n",
       "      <td>217</td>\n",
       "      <td>10537</td>\n",
       "    </tr>\n",
       "    <tr>\n",
       "      <th>2020-04-14</th>\n",
       "      <td>222</td>\n",
       "      <td>10564</td>\n",
       "    </tr>\n",
       "    <tr>\n",
       "      <th>2020-04-15</th>\n",
       "      <td>225</td>\n",
       "      <td>10591</td>\n",
       "    </tr>\n",
       "    <tr>\n",
       "      <th>2020-04-16</th>\n",
       "      <td>229</td>\n",
       "      <td>10613</td>\n",
       "    </tr>\n",
       "    <tr>\n",
       "      <th>2020-04-17</th>\n",
       "      <td>230</td>\n",
       "      <td>10635</td>\n",
       "    </tr>\n",
       "    <tr>\n",
       "      <th>2020-04-18</th>\n",
       "      <td>232</td>\n",
       "      <td>10653</td>\n",
       "    </tr>\n",
       "    <tr>\n",
       "      <th>2020-04-19</th>\n",
       "      <td>234</td>\n",
       "      <td>10661</td>\n",
       "    </tr>\n",
       "    <tr>\n",
       "      <th>2020-04-20</th>\n",
       "      <td>236</td>\n",
       "      <td>10674</td>\n",
       "    </tr>\n",
       "  </tbody>\n",
       "</table>\n",
       "</div>"
      ],
      "text/plain": [
       "            deceased  confirmed\n",
       "date                           \n",
       "2020-03-02        22       4212\n",
       "2020-03-03        28       4812\n",
       "2020-03-04        32       5328\n",
       "2020-03-05        35       5766\n",
       "2020-03-06        42       6284\n",
       "2020-03-07        44       6777\n",
       "2020-03-08        50       7134\n",
       "2020-03-09        51       7382\n",
       "2020-03-10        54       7513\n",
       "2020-03-11        60       7755\n",
       "2020-03-12        66       7869\n",
       "2020-03-13        67       7979\n",
       "2020-03-14        72       8086\n",
       "2020-03-15        75       8162\n",
       "2020-03-16        75       8236\n",
       "2020-03-17        81       8320\n",
       "2020-03-18        84       8413\n",
       "2020-03-19        91       8565\n",
       "2020-03-20        94       8652\n",
       "2020-03-21       102       8799\n",
       "2020-03-22       104       8897\n",
       "2020-03-23       111       8961\n",
       "2020-03-24       120       9037\n",
       "2020-03-25       126       9137\n",
       "2020-03-26       131       9241\n",
       "2020-03-27       139       9332\n",
       "2020-03-28       144       9478\n",
       "2020-03-29       152       9583\n",
       "2020-03-30       158       9661\n",
       "2020-03-31       162       9786\n",
       "2020-04-01       165       9887\n",
       "2020-04-02       169       9976\n",
       "2020-04-03       174      10062\n",
       "2020-04-04       177      10156\n",
       "2020-04-05       183      10237\n",
       "2020-04-06       186      10284\n",
       "2020-04-07       192      10331\n",
       "2020-04-08       200      10384\n",
       "2020-04-09       204      10423\n",
       "2020-04-10       208      10450\n",
       "2020-04-11       211      10480\n",
       "2020-04-12       214      10512\n",
       "2020-04-13       217      10537\n",
       "2020-04-14       222      10564\n",
       "2020-04-15       225      10591\n",
       "2020-04-16       229      10613\n",
       "2020-04-17       230      10635\n",
       "2020-04-18       232      10653\n",
       "2020-04-19       234      10661\n",
       "2020-04-20       236      10674"
      ]
     },
     "execution_count": 8,
     "metadata": {},
     "output_type": "execute_result"
    }
   ],
   "source": [
    "data_deceased_grouped"
   ]
  },
  {
   "cell_type": "code",
   "execution_count": 20,
   "metadata": {
    "scrolled": true
   },
   "outputs": [
    {
     "data": {
      "image/png": "[encoded data removed]",
      "text/plain": [
       "<Figure size 432x288 with 1 Axes>"
      ]
     },
     "metadata": {
      "needs_background": "light"
     },
     "output_type": "display_data"
    }
   ],
   "source": [
    "fig1, ax1 = plt.subplots()\n",
    "\n",
    "ax1.plot(data_deceased_grouped.index, data_deceased_grouped['deceased'])\n",
    "ax1.set_xlabel('Date')\n",
    "ax1.set_xticklabels(data_deceased_grouped.index, rotation=90)\n",
    "ax1.set_ylabel('Infected Patients Who Died')\n",
    "plt.show()"
   ]
  },
  {
   "cell_type": "markdown",
   "metadata": {},
   "source": [
    "_The graph shows that by the day between March and April 2020, the death rate from covid-19 increased at an alarming rate, now investing the most affected age group will give us insight to the population group who were mostly infected, confirmed and unfortunately died_"
   ]
  },
  {
   "cell_type": "markdown",
   "metadata": {},
   "source": [
    "Investigating the most affected age group with higher number of deaths"
   ]
  },
  {
   "cell_type": "code",
   "execution_count": 22,
   "metadata": {},
   "outputs": [],
   "source": [
    "data_age_grouped = data.groupby('age')['deceased', 'confirmed'].sum()"
   ]
  },
  {
   "cell_type": "code",
   "execution_count": 23,
   "metadata": {},
   "outputs": [
    {
     "data": {
      "text/html": [
       "<div>\n",
       "<style scoped>\n",
       "    .dataframe tbody tr th:only-of-type {\n",
       "        vertical-align: middle;\n",
       "    }\n",
       "\n",
       "    .dataframe tbody tr th {\n",
       "        vertical-align: top;\n",
       "    }\n",
       "\n",
       "    .dataframe thead th {\n",
       "        text-align: right;\n",
       "    }\n",
       "</style>\n",
       "<table border=\"1\" class=\"dataframe\">\n",
       "  <thead>\n",
       "    <tr style=\"text-align: right;\">\n",
       "      <th></th>\n",
       "      <th>deceased</th>\n",
       "      <th>confirmed</th>\n",
       "    </tr>\n",
       "    <tr>\n",
       "      <th>age</th>\n",
       "      <th></th>\n",
       "      <th></th>\n",
       "    </tr>\n",
       "  </thead>\n",
       "  <tbody>\n",
       "    <tr>\n",
       "      <th>0s</th>\n",
       "      <td>0</td>\n",
       "      <td>5013</td>\n",
       "    </tr>\n",
       "    <tr>\n",
       "      <th>10s</th>\n",
       "      <td>0</td>\n",
       "      <td>23319</td>\n",
       "    </tr>\n",
       "    <tr>\n",
       "      <th>20s</th>\n",
       "      <td>0</td>\n",
       "      <td>123852</td>\n",
       "    </tr>\n",
       "    <tr>\n",
       "      <th>30s</th>\n",
       "      <td>52</td>\n",
       "      <td>47149</td>\n",
       "    </tr>\n",
       "    <tr>\n",
       "      <th>40s</th>\n",
       "      <td>82</td>\n",
       "      <td>60813</td>\n",
       "    </tr>\n",
       "    <tr>\n",
       "      <th>50s</th>\n",
       "      <td>472</td>\n",
       "      <td>83947</td>\n",
       "    </tr>\n",
       "    <tr>\n",
       "      <th>60s</th>\n",
       "      <td>1033</td>\n",
       "      <td>56161</td>\n",
       "    </tr>\n",
       "    <tr>\n",
       "      <th>70s</th>\n",
       "      <td>2046</td>\n",
       "      <td>28877</td>\n",
       "    </tr>\n",
       "    <tr>\n",
       "      <th>80s</th>\n",
       "      <td>2995</td>\n",
       "      <td>18136</td>\n",
       "    </tr>\n",
       "  </tbody>\n",
       "</table>\n",
       "</div>"
      ],
      "text/plain": [
       "     deceased  confirmed\n",
       "age                     \n",
       "0s          0       5013\n",
       "10s         0      23319\n",
       "20s         0     123852\n",
       "30s        52      47149\n",
       "40s        82      60813\n",
       "50s       472      83947\n",
       "60s      1033      56161\n",
       "70s      2046      28877\n",
       "80s      2995      18136"
      ]
     },
     "execution_count": 23,
     "metadata": {},
     "output_type": "execute_result"
    }
   ],
   "source": [
    "data_age_grouped"
   ]
  },
  {
   "cell_type": "code",
   "execution_count": 24,
   "metadata": {},
   "outputs": [
    {
     "data": {
      "image/png": "[encoded data removed]",
      "text/plain": [
       "<Figure size 432x288 with 1 Axes>"
      ]
     },
     "metadata": {
      "needs_background": "light"
     },
     "output_type": "display_data"
    }
   ],
   "source": [
    "fig2, ax2 = plt.subplots()\n",
    "\n",
    "ax2.bar(data_age_grouped.index, data_age_grouped['deceased'])\n",
    "\n",
    "plt.show()"
   ]
  },
  {
   "cell_type": "markdown",
   "metadata": {},
   "source": [
    "_The plot shows that infected persons from age 50 and above were the age group who experienced the most fatalities. It is now important to discover what is the social function by age distribution of these age groups in the South Korean population_"
   ]
  },
  {
   "cell_type": "markdown",
   "metadata": {},
   "source": [
    "#### Conclusion\n",
    "From indexmundi.com - link - indexmundi.com/south_korea/age_structure.html, the distribution of population according to age in south korea is as follows: 0 - 14 years (children), 15 - 24 (early working age), 25 - 54 years (prime working age), 55 - 64 years (mature working age), 65 years and over (elderly). \n",
    "\n",
    "It can be clearly seen that the *mature working age* and the *elderly* we're the most affected age group from the covid-19 pandemic between March and April 2020. It can be concluded that they will require new workforce population to resusitate and sustain their economy. "
   ]
  }
 ],
 "metadata": {
  "kernelspec": {
   "display_name": "Python 3",
   "language": "python",
   "name": "python3"
  },
  "language_info": {
   "codemirror_mode": {
    "name": "ipython",
    "version": 3
   },
   "file_extension": ".py",
   "mimetype": "text/x-python",
   "name": "python",
   "nbconvert_exporter": "python",
   "pygments_lexer": "ipython3",
   "version": "3.7.1"
  }
 },
 "nbformat": 4,
 "nbformat_minor": 2
}
